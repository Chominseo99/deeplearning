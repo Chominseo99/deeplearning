{
  "nbformat": 4,
  "nbformat_minor": 0,
  "metadata": {
    "colab": {
      "name": "Lecture1_CNN_ms_2.ipynb",
      "provenance": [],
      "collapsed_sections": [],
      "include_colab_link": true
    },
    "kernelspec": {
      "name": "python3",
      "display_name": "Python 3"
    },
    "accelerator": "GPU"
  },
  "cells": [
    {
      "cell_type": "markdown",
      "metadata": {
        "id": "view-in-github",
        "colab_type": "text"
      },
      "source": [
        "<a href=\"https://colab.research.google.com/github/Chominseo99/deeplearning/blob/main/Lecture1_CNN_ms_2.ipynb\" target=\"_parent\"><img src=\"https://colab.research.google.com/assets/colab-badge.svg\" alt=\"Open In Colab\"/></a>"
      ]
    },
    {
      "cell_type": "code",
      "metadata": {
        "colab": {
          "base_uri": "https://localhost:8080/"
        },
        "id": "zl2gi2b0DrtN",
        "outputId": "c61836cd-c8a6-48a6-a0b5-c88eb1a9fbb0"
      },
      "source": [
        "from google.colab import drive\r\n",
        "drive.mount('/content/drive')"
      ],
      "execution_count": 1,
      "outputs": [
        {
          "output_type": "stream",
          "text": [
            "Mounted at /content/drive\n"
          ],
          "name": "stdout"
        }
      ]
    },
    {
      "cell_type": "markdown",
      "metadata": {
        "id": "UDCIqpTnJeqZ"
      },
      "source": [
        "# Lecture 1. CNN"
      ]
    },
    {
      "cell_type": "markdown",
      "metadata": {
        "id": "rTaaZF3HJs40"
      },
      "source": [
        "# 1. 라이브러리 불러오기"
      ]
    },
    {
      "cell_type": "code",
      "metadata": {
        "id": "vIIvdH4_JbR2"
      },
      "source": [
        "import numpy as np\r\n",
        "import os, matplotlib\r\n",
        "from matplotlib import pyplot as plt\r\n",
        "\r\n",
        "### Tensorflow 2.0 ###\r\n",
        "import tensorflow as tf\r\n",
        "from tensorflow import keras\r\n",
        "from tensorflow.keras.models import Sequential, Model\r\n",
        "from tensorflow.keras import Input\r\n",
        "from tensorflow.keras import layers\r\n",
        "from tensorflow.keras import models\r\n",
        "from tensorflow.keras.preprocessing import image\r\n",
        "from tensorflow.keras.preprocessing.image import ImageDataGenerator\r\n",
        "from tensorflow.keras import losses\r\n",
        "from tensorflow.keras import optimizers\r\n",
        "from tensorflow.keras import metrics\r\n",
        "from tensorflow.keras import regularizers\r\n",
        "from tensorflow.keras import utils"
      ],
      "execution_count": 2,
      "outputs": []
    },
    {
      "cell_type": "markdown",
      "metadata": {
        "id": "oSc3RZmiKDUv"
      },
      "source": [
        "# 2. 데이터 로딩"
      ]
    },
    {
      "cell_type": "code",
      "metadata": {
        "colab": {
          "base_uri": "https://localhost:8080/"
        },
        "id": "H6Z_blzwKB16",
        "outputId": "2486ae41-d890-422c-cbac-89d94ea8add7"
      },
      "source": [
        "(x_train, y_train), (x_test, y_test)=keras.datasets.mnist.load_data(path='minist.npz')\r\n",
        "print(x_train.shape, y_train.shape)"
      ],
      "execution_count": 3,
      "outputs": [
        {
          "output_type": "stream",
          "text": [
            "Downloading data from https://storage.googleapis.com/tensorflow/tf-keras-datasets/mnist.npz\n",
            "11493376/11490434 [==============================] - 0s 0us/step\n",
            "(60000, 28, 28) (60000,)\n"
          ],
          "name": "stdout"
        }
      ]
    },
    {
      "cell_type": "code",
      "metadata": {
        "colab": {
          "base_uri": "https://localhost:8080/"
        },
        "id": "0FLSAWYcKIjl",
        "outputId": "2c4da58b-fe1c-4db6-d6b9-1b097cffe90b"
      },
      "source": [
        "#데이터셋 전체 사용\r\n",
        "x_train_list = []\r\n",
        "x_test_list = []\r\n",
        "for i, i_ in enumerate(x_train[:]):\r\n",
        "    arr = np.zeros(shape=(32, 32))\r\n",
        "    arr[:28,:28] = x_train[i]\r\n",
        "    x_train_list.append(arr)\r\n",
        "for i, i_ in enumerate(x_test[:]):\r\n",
        "    arr = np.zeros(shape=(32, 32))\r\n",
        "    arr[:28,:28] = x_test[i]\r\n",
        "    x_test_list.append(arr)\r\n",
        "\r\n",
        "x_train1 = np.expand_dims(np.array(x_train_list), axis=-1)\r\n",
        "x_test1 = np.expand_dims(np.array(x_test_list), axis=-1)\r\n",
        "print(x_train1.shape, x_test1.shape)"
      ],
      "execution_count": 4,
      "outputs": [
        {
          "output_type": "stream",
          "text": [
            "(60000, 32, 32, 1) (10000, 32, 32, 1)\n"
          ],
          "name": "stdout"
        }
      ]
    },
    {
      "cell_type": "code",
      "metadata": {
        "colab": {
          "base_uri": "https://localhost:8080/"
        },
        "id": "Xvzy72PlM64n",
        "outputId": "f78e8d3f-d26b-4cf7-bc5d-8e4561566d8e"
      },
      "source": [
        "#데이터셋 전체 사용\r\n",
        "y_train_list = []\r\n",
        "y_test_list = []\r\n",
        "for i, i_ in enumerate(y_train[:]):\r\n",
        "    zero = [0]*10\r\n",
        "    zero[i_] = 1\r\n",
        "    y_train_list.append(zero)\r\n",
        "\r\n",
        "for i, i_ in enumerate(y_test[:]):\r\n",
        "    zero = [0]*10\r\n",
        "    zero[i_] = 1\r\n",
        "    y_test_list.append(zero)    \r\n",
        "    \r\n",
        "y_train1 = np.array(y_train_list)\r\n",
        "y_test1 = np.array(y_test_list)\r\n",
        "print(y_train1.shape, y_test1.shape)"
      ],
      "execution_count": 5,
      "outputs": [
        {
          "output_type": "stream",
          "text": [
            "(60000, 10) (10000, 10)\n"
          ],
          "name": "stdout"
        }
      ]
    },
    {
      "cell_type": "code",
      "metadata": {
        "colab": {
          "base_uri": "https://localhost:8080/",
          "height": 228
        },
        "id": "Z_U2eCQPKNp0",
        "outputId": "57e5fb1b-0c52-4d2f-f431-b9fbc68f3d26"
      },
      "source": [
        "plt.figure(figsize=(10,10))\r\n",
        "for i in range(3):\r\n",
        "    plt.subplot(1,3,i+1)\r\n",
        "    plt.imshow(x_train1[i][...,0], cmap='gray')\r\n",
        "    plt.title('Class = {}'.format(y_train[i]))"
      ],
      "execution_count": 6,
      "outputs": [
        {
          "output_type": "display_data",
          "data": {
            "image/png": "[encoded data removed]",
            "text/plain": [
              "<Figure size 720x720 with 3 Axes>"
            ]
          },
          "metadata": {
            "tags": [],
            "needs_background": "light"
          }
        }
      ]
    },
    {
      "cell_type": "markdown",
      "metadata": {
        "id": "bqhgW17uKtdU"
      },
      "source": [
        "# 3. 모델 만들기"
      ]
    },
    {
      "cell_type": "markdown",
      "metadata": {
        "id": "n6UJSQiSK1dr"
      },
      "source": [
        "# **AI 모델을 구성하는 레이어 만들기**\r\n",
        "\r\n",
        "AI 모델은 여러 개의 레이어를 쌓아 올려 만듭니다.  \r\n",
        "가장 대표적인 레이어 구조인 **CONV-BN-ACT-POOL** 구조를 만들어 보겠습니다.\r\n",
        "\r\n",
        "먼저 데이터가 들어가는 첫 번째 레이어를 만들어 봅시다."
      ]
    },
    {
      "cell_type": "code",
      "metadata": {
        "id": "x9IJsyASKTTq"
      },
      "source": [
        "first_layer = Input(shape=(32, 32, 1))"
      ],
      "execution_count": 7,
      "outputs": []
    },
    {
      "cell_type": "markdown",
      "metadata": {
        "id": "oQIZ8FEDK51O"
      },
      "source": [
        "그 다음으로 데이터의 특징을 추출할 Convolution 레이어를 연결하겠습니다."
      ]
    },
    {
      "cell_type": "code",
      "metadata": {
        "id": "9Ft6sLtsK859"
      },
      "source": [
        "#filters 8->16\r\n",
        "second_layer = layers.Conv2D(filters=8, kernel_size=(3, 3), activation=None, padding='same')(first_layer)"
      ],
      "execution_count": 8,
      "outputs": []
    },
    {
      "cell_type": "markdown",
      "metadata": {
        "id": "vizq1nu8LGlU"
      },
      "source": [
        "다음으로 레이어 중간에서 정규화를 도와줄 Batch Normalization 레이어를 추가하겠습니다.다음으로 레이어 중간에서 정규화를 도와줄 Batch Normalization 레이어를 추가하겠습니다."
      ]
    },
    {
      "cell_type": "code",
      "metadata": {
        "id": "WUmnPVdhK-oo"
      },
      "source": [
        "third_layer = layers.BatchNormalization()(second_layer)"
      ],
      "execution_count": 9,
      "outputs": []
    },
    {
      "cell_type": "markdown",
      "metadata": {
        "id": "LjZprgalLPSn"
      },
      "source": [
        "Batch Normalization 이후 신호를 변환하여 다음 뉴런으로 전달하는 Activation function 레이어를 추가합니다."
      ]
    },
    {
      "cell_type": "code",
      "metadata": {
        "id": "idrmW7DWLMUH"
      },
      "source": [
        "fourth_layer = layers.Activation('relu')(third_layer)"
      ],
      "execution_count": 10,
      "outputs": []
    },
    {
      "cell_type": "markdown",
      "metadata": {
        "id": "2yP4a-DALVz7"
      },
      "source": [
        "다음으로 이미지 사이즈를 줄여주는 Pooling 레이어를 연결합니다."
      ]
    },
    {
      "cell_type": "code",
      "metadata": {
        "id": "Ce7ptoGMLRbp"
      },
      "source": [
        "fifth_layer = layers.MaxPool2D(strides=(2, 2))(fourth_layer)"
      ],
      "execution_count": 11,
      "outputs": []
    },
    {
      "cell_type": "markdown",
      "metadata": {
        "id": "I2kLbOW3Moje"
      },
      "source": [
        "Convolution 레이어를 추가하겠습니다. (filters 8->16)"
      ]
    },
    {
      "cell_type": "code",
      "metadata": {
        "id": "iTwKsI0qL-J6"
      },
      "source": [
        "sixth_layer = layers.Conv2D(filters=16, kernel_size=(3, 3))(fifth_layer)"
      ],
      "execution_count": 12,
      "outputs": []
    },
    {
      "cell_type": "code",
      "metadata": {
        "id": "V5dAMPeJL-S8"
      },
      "source": [
        "seventh_layer = layers.MaxPool2D(strides=(2, 2))(sixth_layer)"
      ],
      "execution_count": 13,
      "outputs": []
    },
    {
      "cell_type": "markdown",
      "metadata": {
        "id": "TOPLGDOmLbl3"
      },
      "source": [
        "그 후 모든 뉴런을 일렬로 늘어세우는 Flatten 레이어를 만듭니다."
      ]
    },
    {
      "cell_type": "code",
      "metadata": {
        "id": "-qshjYfELY00"
      },
      "source": [
        "eighth_layer = layers.Flatten()(seventh_layer)"
      ],
      "execution_count": 14,
      "outputs": []
    },
    {
      "cell_type": "markdown",
      "metadata": {
        "id": "nt4puhZMLi75"
      },
      "source": [
        "일렬로 늘어세운 후 이전 계층의 모든 뉴런을 연결해주는 Fully connected(Dense) 레이어를 연결합니다."
      ]
    },
    {
      "cell_type": "code",
      "metadata": {
        "id": "_Au2f0SaLgLw"
      },
      "source": [
        "ninth_layer = layers.Dense(100, activation = 'relu')(eighth_layer)"
      ],
      "execution_count": 15,
      "outputs": []
    },
    {
      "cell_type": "markdown",
      "metadata": {
        "id": "0wslnvsGLtXH"
      },
      "source": [
        "Dropout 레이어를 활용해 일부 뉴런들을 무작위로 학습에서 배제하도록 합시다."
      ]
    },
    {
      "cell_type": "code",
      "metadata": {
        "id": "sHlH9exdLnXE"
      },
      "source": [
        "tenth_layer = layers.Dropout(0.25)(ninth_layer)"
      ],
      "execution_count": 16,
      "outputs": []
    },
    {
      "cell_type": "markdown",
      "metadata": {
        "id": "iKE18CBDLy3y"
      },
      "source": [
        "마지막으로 최종 결과물을 출력해주는 레이어를 만들어 줍니다."
      ]
    },
    {
      "cell_type": "code",
      "metadata": {
        "id": "9JBcDxmpLpzF"
      },
      "source": [
        "final_layer =  layers.Dense(10, activation='sigmoid')(tenth_layer)"
      ],
      "execution_count": 17,
      "outputs": []
    },
    {
      "cell_type": "markdown",
      "metadata": {
        "id": "mzBKkHcLL8u-"
      },
      "source": [
        "지금까지 만든 레이어를 Model 함수에 넣어 연결하면 모델이 완성됩니다."
      ]
    },
    {
      "cell_type": "code",
      "metadata": {
        "colab": {
          "base_uri": "https://localhost:8080/"
        },
        "id": "Ke96nkx5L1_7",
        "outputId": "0e9f9663-5ce4-4756-8f5c-c72de0f03bbc"
      },
      "source": [
        "model = Model(first_layer, final_layer)\r\n",
        "model.summary()"
      ],
      "execution_count": 18,
      "outputs": [
        {
          "output_type": "stream",
          "text": [
            "Model: \"model\"\n",
            "_________________________________________________________________\n",
            "Layer (type)                 Output Shape              Param #   \n",
            "=================================================================\n",
            "input_1 (InputLayer)         [(None, 32, 32, 1)]       0         \n",
            "_________________________________________________________________\n",
            "conv2d (Conv2D)              (None, 32, 32, 8)         80        \n",
            "_________________________________________________________________\n",
            "batch_normalization (BatchNo (None, 32, 32, 8)         32        \n",
            "_________________________________________________________________\n",
            "activation (Activation)      (None, 32, 32, 8)         0         \n",
            "_________________________________________________________________\n",
            "max_pooling2d (MaxPooling2D) (None, 16, 16, 8)         0         \n",
            "_________________________________________________________________\n",
            "conv2d_1 (Conv2D)            (None, 14, 14, 16)        1168      \n",
            "_________________________________________________________________\n",
            "max_pooling2d_1 (MaxPooling2 (None, 7, 7, 16)          0         \n",
            "_________________________________________________________________\n",
            "flatten (Flatten)            (None, 784)               0         \n",
            "_________________________________________________________________\n",
            "dense (Dense)                (None, 100)               78500     \n",
            "_________________________________________________________________\n",
            "dropout (Dropout)            (None, 100)               0         \n",
            "_________________________________________________________________\n",
            "dense_1 (Dense)              (None, 10)                1010      \n",
            "=================================================================\n",
            "Total params: 80,790\n",
            "Trainable params: 80,774\n",
            "Non-trainable params: 16\n",
            "_________________________________________________________________\n"
          ],
          "name": "stdout"
        }
      ]
    },
    {
      "cell_type": "markdown",
      "metadata": {
        "id": "aYbBVGh7MI2k"
      },
      "source": [
        "# 4. 모델 훈련하기"
      ]
    },
    {
      "cell_type": "markdown",
      "metadata": {
        "id": "2RkQLvYpMlV7"
      },
      "source": [
        "신경망 모델의 손실함수와 옵티마이저, 학습률 등의 파라미터를 지정해줍니다. \r\n",
        "\r\n",
        "성능은 정확도를 평가할 것입니다."
      ]
    },
    {
      "cell_type": "code",
      "metadata": {
        "id": "b9asGMjBL9Un"
      },
      "source": [
        "model.compile(loss=losses.CategoricalCrossentropy(), optimizer=optimizers.Adam(lr=1e-4), metrics=['accuracy'])"
      ],
      "execution_count": 19,
      "outputs": []
    },
    {
      "cell_type": "code",
      "metadata": {
        "colab": {
          "base_uri": "https://localhost:8080/"
        },
        "id": "54u7L5V0MW4D",
        "outputId": "8f7b5893-5170-4e86-d8ae-7e6c247e86f1"
      },
      "source": [
        "history = model.fit(x_train1, y_train1, epochs=20, batch_size=32, \r\n",
        "                    validation_data=(x_test1, y_test1), shuffle=True)"
      ],
      "execution_count": 20,
      "outputs": [
        {
          "output_type": "stream",
          "text": [
            "Epoch 1/20\n",
            "1875/1875 [==============================] - 13s 3ms/step - loss: 0.9243 - accuracy: 0.7058 - val_loss: 0.1710 - val_accuracy: 0.9462\n",
            "Epoch 2/20\n",
            "1875/1875 [==============================] - 6s 3ms/step - loss: 0.1957 - accuracy: 0.9419 - val_loss: 0.0996 - val_accuracy: 0.9701\n",
            "Epoch 3/20\n",
            "1875/1875 [==============================] - 5s 3ms/step - loss: 0.1331 - accuracy: 0.9612 - val_loss: 0.0758 - val_accuracy: 0.9761\n",
            "Epoch 4/20\n",
            "1875/1875 [==============================] - 5s 3ms/step - loss: 0.1016 - accuracy: 0.9689 - val_loss: 0.0614 - val_accuracy: 0.9798\n",
            "Epoch 5/20\n",
            "1875/1875 [==============================] - 5s 3ms/step - loss: 0.0837 - accuracy: 0.9753 - val_loss: 0.0534 - val_accuracy: 0.9826\n",
            "Epoch 6/20\n",
            "1875/1875 [==============================] - 5s 3ms/step - loss: 0.0696 - accuracy: 0.9791 - val_loss: 0.0478 - val_accuracy: 0.9843\n",
            "Epoch 7/20\n",
            "1875/1875 [==============================] - 5s 3ms/step - loss: 0.0613 - accuracy: 0.9813 - val_loss: 0.0427 - val_accuracy: 0.9858\n",
            "Epoch 8/20\n",
            "1875/1875 [==============================] - 5s 3ms/step - loss: 0.0557 - accuracy: 0.9834 - val_loss: 0.0423 - val_accuracy: 0.9861\n",
            "Epoch 9/20\n",
            "1875/1875 [==============================] - 5s 3ms/step - loss: 0.0491 - accuracy: 0.9856 - val_loss: 0.0385 - val_accuracy: 0.9866\n",
            "Epoch 10/20\n",
            "1875/1875 [==============================] - 5s 3ms/step - loss: 0.0412 - accuracy: 0.9875 - val_loss: 0.0396 - val_accuracy: 0.9866\n",
            "Epoch 11/20\n",
            "1875/1875 [==============================] - 5s 3ms/step - loss: 0.0424 - accuracy: 0.9862 - val_loss: 0.0365 - val_accuracy: 0.9871\n",
            "Epoch 12/20\n",
            "1875/1875 [==============================] - 6s 3ms/step - loss: 0.0360 - accuracy: 0.9894 - val_loss: 0.0352 - val_accuracy: 0.9884\n",
            "Epoch 13/20\n",
            "1875/1875 [==============================] - 5s 3ms/step - loss: 0.0345 - accuracy: 0.9893 - val_loss: 0.0346 - val_accuracy: 0.9892\n",
            "Epoch 14/20\n",
            "1875/1875 [==============================] - 5s 3ms/step - loss: 0.0302 - accuracy: 0.9904 - val_loss: 0.0340 - val_accuracy: 0.9882\n",
            "Epoch 15/20\n",
            "1875/1875 [==============================] - 5s 3ms/step - loss: 0.0300 - accuracy: 0.9905 - val_loss: 0.0348 - val_accuracy: 0.9882\n",
            "Epoch 16/20\n",
            "1875/1875 [==============================] - 5s 3ms/step - loss: 0.0263 - accuracy: 0.9913 - val_loss: 0.0338 - val_accuracy: 0.9894\n",
            "Epoch 17/20\n",
            "1875/1875 [==============================] - 5s 3ms/step - loss: 0.0253 - accuracy: 0.9920 - val_loss: 0.0330 - val_accuracy: 0.9890\n",
            "Epoch 18/20\n",
            "1875/1875 [==============================] - 5s 3ms/step - loss: 0.0220 - accuracy: 0.9927 - val_loss: 0.0346 - val_accuracy: 0.9897\n",
            "Epoch 19/20\n",
            "1875/1875 [==============================] - 5s 3ms/step - loss: 0.0220 - accuracy: 0.9929 - val_loss: 0.0334 - val_accuracy: 0.9893\n",
            "Epoch 20/20\n",
            "1875/1875 [==============================] - 6s 3ms/step - loss: 0.0224 - accuracy: 0.9928 - val_loss: 0.0343 - val_accuracy: 0.9889\n"
          ],
          "name": "stdout"
        }
      ]
    },
    {
      "cell_type": "markdown",
      "metadata": {
        "id": "6HsNhn09NhXR"
      },
      "source": [
        "# 5. 결과 확인하기"
      ]
    },
    {
      "cell_type": "code",
      "metadata": {
        "id": "MB1DGNnlNZUV"
      },
      "source": [
        "acc = history.history['accuracy']\r\n",
        "val_acc = history.history['val_accuracy']\r\n",
        "loss = history.history['loss']\r\n",
        "val_loss = history.history['val_loss']"
      ],
      "execution_count": 21,
      "outputs": []
    },
    {
      "cell_type": "code",
      "metadata": {
        "id": "9desSnK0NmDx"
      },
      "source": [
        "epochs = range(1,len(acc)+1)"
      ],
      "execution_count": 22,
      "outputs": []
    },
    {
      "cell_type": "markdown",
      "metadata": {
        "id": "XZCdmA9zN9z5"
      },
      "source": [
        "정확도와 손실함수 그래프 그리기"
      ]
    },
    {
      "cell_type": "code",
      "metadata": {
        "colab": {
          "base_uri": "https://localhost:8080/",
          "height": 545
        },
        "id": "nksI66aLNo_d",
        "outputId": "57b15027-5100-479f-ba60-f04a31db504b"
      },
      "source": [
        "plt.plot(epochs, acc, 'b', color='blue', label='Training acc')\r\n",
        "plt.plot(epochs, val_acc, 'b', color='red', label='Validation acc')\r\n",
        "plt.title('Training and validation accuracy', color='w')\r\n",
        "plt.legend()\r\n",
        "\r\n",
        "plt.figure()\r\n",
        "\r\n",
        "plt.plot(epochs, loss, 'b', color='blue', label='Training loss')\r\n",
        "plt.plot(epochs, val_loss, 'b', color='red', label='Validation loss')\r\n",
        "plt.title('Training and validation loss', color='w')\r\n",
        "plt.legend()\r\n",
        "\r\n",
        "plt.show()"
      ],
      "execution_count": 23,
      "outputs": [
        {
          "output_type": "display_data",
          "data": {
            "image/png": "[encoded data removed]",
            "text/plain": [
              "<Figure size 432x288 with 1 Axes>"
            ]
          },
          "metadata": {
            "tags": [],
            "needs_background": "light"
          }
        },
        {
          "output_type": "display_data",
          "data": {
            "image/png": "[encoded data removed]",
            "text/plain": [
              "<Figure size 432x288 with 1 Axes>"
            ]
          },
          "metadata": {
            "tags": [],
            "needs_background": "light"
          }
        }
      ]
    },
    {
      "cell_type": "code",
      "metadata": {
        "id": "uFLW5MRmNtcm"
      },
      "source": [
        ""
      ],
      "execution_count": null,
      "outputs": []
    }
  ]
}